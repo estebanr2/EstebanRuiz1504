{
  "nbformat": 4,
  "nbformat_minor": 0,
  "metadata": {
    "colab": {
      "provenance": [],
      "authorship_tag": "ABX9TyO0wyDDZEB/8RYwDN3bE7uK",
      "include_colab_link": true
    },
    "kernelspec": {
      "name": "python3",
      "display_name": "Python 3"
    },
    "language_info": {
      "name": "python"
    }
  },
  "cells": [
    {
      "cell_type": "markdown",
      "metadata": {
        "id": "view-in-github",
        "colab_type": "text"
      },
      "source": [
        "<a href=\"https://colab.research.google.com/github/estebanr2/EstebanRuiz1504/blob/main/Adivinar_545743.ipynb\" target=\"_parent\"><img src=\"https://colab.research.google.com/assets/colab-badge.svg\" alt=\"Open In Colab\"/></a>"
      ]
    },
    {
      "cell_type": "code",
      "execution_count": null,
      "metadata": {
        "id": "AIoAHdQ-2Vq8"
      },
      "outputs": [],
      "source": [
        "import random\n",
        "import time\n",
        "from IPython.display import clear_output  # Assuming you're using IPython\n",
        "import string\n",
        "\n",
        "def generate_grid(size):\n",
        "  grid = [[None for _ in range(size)] for _ in range(size)]\n",
        "  values = list(string.ascii_uppercase) + list(string.ascii_lowercase) + list(map(str, range(10)))\n",
        "  random.shuffle(values)  # Shuffle the values list to ensure randomness\n",
        "  for row in range(size):\n",
        "    for col in range(size):\n",
        "      grid[row][col] = values.pop()  # Access values in shuffled order\n",
        "  return grid\n",
        "\n",
        "def display_grid(grid):\n",
        "  clear_output()\n",
        "  for row in grid:\n",
        "    print(\" \".join(str(cell) for cell in row))\n",
        "\n",
        "def hide_random_value(grid):\n",
        "  if grid is None:  # Check for grid generation errors\n",
        "    return None\n",
        "\n",
        "  row = random.randint(0, len(grid) - 1)\n",
        "  col = random.randint(0, len(grid[0]) - 1)\n",
        "  hidden_value = grid[row][col]\n",
        "  grid[row][col] = \"*\"\n",
        "  return hidden_value\n",
        "\n",
        "def play_game():\n",
        "  while True:\n",
        "    try:\n",
        "      size = int(input(\"Ingrese el tamaño de la cuadrícula (mayor que 1): \"))\n",
        "      if size <= 1:\n",
        "        print(\"El tamaño debe ser mayor que 1.\")\n",
        "        continue  # Skip to the next iteration of the loop\n",
        "      elif size >= 100:  # Set an upper limit if needed\n",
        "        print(\"El tamaño máximo permitido es 99.\")\n",
        "        continue\n",
        "\n",
        "    except ValueError:\n",
        "      print(\"Entrada inválida. Debe ingresar un número entero.\")\n",
        "\n",
        "    grid = generate_grid(size)\n",
        "    if grid is None:  # Handle grid generation errors\n",
        "        print(\"Error al generar la cuadrícula. Intente con un tamaño más pequeño.\")\n",
        "        continue\n",
        "\n",
        "    display_grid(grid)\n",
        "\n",
        "    time.sleep(size * 3)\n",
        "\n",
        "    hidden_value = hide_random_value(grid)\n",
        "    display_grid(grid)\n",
        "\n",
        "    guess = input(\"Ingrese el valor que cree que se oculta: \")\n",
        "    if guess == str(hidden_value):\n",
        "      print(\"¡Correcto! Has encontrado el valor oculto.\")\n",
        "    else:\n",
        "      print(\"Incorrecto. El valor era\", hidden_value)\n",
        "\n",
        "    play_again = input(\"¿Desea jugar de nuevo? (s/n): \")\n",
        "    if play_again.lower() != 's':\n",
        "      break\n",
        "\n",
        "if __name__ == \"__main__\":\n",
        "  play_game()\n"
      ]
    }
  ]
}
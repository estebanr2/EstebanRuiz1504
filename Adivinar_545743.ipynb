{
  "nbformat": 4,
  "nbformat_minor": 0,
  "metadata": {
    "colab": {
      "provenance": [],
      "authorship_tag": "ABX9TyMyutmp+UWk/7u2AmtpqIxe",
      "include_colab_link": true
    },
    "kernelspec": {
      "name": "python3",
      "display_name": "Python 3"
    },
    "language_info": {
      "name": "python"
    }
  },
  "cells": [
    {
      "cell_type": "markdown",
      "metadata": {
        "id": "view-in-github",
        "colab_type": "text"
      },
      "source": [
        "<a href=\"https://colab.research.google.com/github/estebanr2/EstebanRuiz1504/blob/main/Adivinar_545743.ipynb\" target=\"_parent\"><img src=\"https://colab.research.google.com/assets/colab-badge.svg\" alt=\"Open In Colab\"/></a>"
      ]
    },
    {
      "cell_type": "markdown",
      "source": [
        "Actividad Funciones y Matrices\n",
        "Fecha: 15 de Abril de 2024\n",
        "\n",
        "Presentado por: Esteban Andrés Ruiz Mejía\n",
        "\n",
        "Email: esteban.ruizm@upb.edu.co"
      ],
      "metadata": {
        "id": "L8xIy9EX3QRW"
      }
    },
    {
      "cell_type": "code",
      "execution_count": 1,
      "metadata": {
        "id": "AIoAHdQ-2Vq8",
        "outputId": "92dfea4e-cb54-4b50-bd74-1c319db30962",
        "colab": {
          "base_uri": "https://localhost:8080/",
          "height": 391
        }
      },
      "outputs": [
        {
          "output_type": "stream",
          "name": "stdout",
          "text": [
            "x 7\n",
            "* Y\n",
            "Ingrese el valor que cree que se oculta: 1\n",
            "Incorrecto. El valor era V\n"
          ]
        },
        {
          "output_type": "error",
          "ename": "KeyboardInterrupt",
          "evalue": "Interrupted by user",
          "traceback": [
            "\u001b[0;31m---------------------------------------------------------------------------\u001b[0m",
            "\u001b[0;31mKeyboardInterrupt\u001b[0m                         Traceback (most recent call last)",
            "\u001b[0;32m<ipython-input-1-10a3f69401f3>\u001b[0m in \u001b[0;36m<cell line: 66>\u001b[0;34m()\u001b[0m\n\u001b[1;32m     65\u001b[0m \u001b[0;34m\u001b[0m\u001b[0m\n\u001b[1;32m     66\u001b[0m \u001b[0;32mif\u001b[0m \u001b[0m__name__\u001b[0m \u001b[0;34m==\u001b[0m \u001b[0;34m\"__main__\"\u001b[0m\u001b[0;34m:\u001b[0m\u001b[0;34m\u001b[0m\u001b[0;34m\u001b[0m\u001b[0m\n\u001b[0;32m---> 67\u001b[0;31m   \u001b[0mplay_game\u001b[0m\u001b[0;34m(\u001b[0m\u001b[0;34m)\u001b[0m\u001b[0;34m\u001b[0m\u001b[0;34m\u001b[0m\u001b[0m\n\u001b[0m",
            "\u001b[0;32m<ipython-input-1-10a3f69401f3>\u001b[0m in \u001b[0;36mplay_game\u001b[0;34m()\u001b[0m\n\u001b[1;32m     60\u001b[0m       \u001b[0mprint\u001b[0m\u001b[0;34m(\u001b[0m\u001b[0;34m\"Incorrecto. El valor era\"\u001b[0m\u001b[0;34m,\u001b[0m \u001b[0mhidden_value\u001b[0m\u001b[0;34m)\u001b[0m\u001b[0;34m\u001b[0m\u001b[0;34m\u001b[0m\u001b[0m\n\u001b[1;32m     61\u001b[0m \u001b[0;34m\u001b[0m\u001b[0m\n\u001b[0;32m---> 62\u001b[0;31m     \u001b[0mplay_again\u001b[0m \u001b[0;34m=\u001b[0m \u001b[0minput\u001b[0m\u001b[0;34m(\u001b[0m\u001b[0;34m\"¿Desea jugar de nuevo? (s/n): \"\u001b[0m\u001b[0;34m)\u001b[0m\u001b[0;34m\u001b[0m\u001b[0;34m\u001b[0m\u001b[0m\n\u001b[0m\u001b[1;32m     63\u001b[0m     \u001b[0;32mif\u001b[0m \u001b[0mplay_again\u001b[0m\u001b[0;34m.\u001b[0m\u001b[0mlower\u001b[0m\u001b[0;34m(\u001b[0m\u001b[0;34m)\u001b[0m \u001b[0;34m!=\u001b[0m \u001b[0;34m's'\u001b[0m\u001b[0;34m:\u001b[0m\u001b[0;34m\u001b[0m\u001b[0;34m\u001b[0m\u001b[0m\n\u001b[1;32m     64\u001b[0m       \u001b[0;32mbreak\u001b[0m\u001b[0;34m\u001b[0m\u001b[0;34m\u001b[0m\u001b[0m\n",
            "\u001b[0;32m/usr/local/lib/python3.10/dist-packages/ipykernel/kernelbase.py\u001b[0m in \u001b[0;36mraw_input\u001b[0;34m(self, prompt)\u001b[0m\n\u001b[1;32m    849\u001b[0m                 \u001b[0;34m\"raw_input was called, but this frontend does not support input requests.\"\u001b[0m\u001b[0;34m\u001b[0m\u001b[0;34m\u001b[0m\u001b[0m\n\u001b[1;32m    850\u001b[0m             )\n\u001b[0;32m--> 851\u001b[0;31m         return self._input_request(str(prompt),\n\u001b[0m\u001b[1;32m    852\u001b[0m             \u001b[0mself\u001b[0m\u001b[0;34m.\u001b[0m\u001b[0m_parent_ident\u001b[0m\u001b[0;34m,\u001b[0m\u001b[0;34m\u001b[0m\u001b[0;34m\u001b[0m\u001b[0m\n\u001b[1;32m    853\u001b[0m             \u001b[0mself\u001b[0m\u001b[0;34m.\u001b[0m\u001b[0m_parent_header\u001b[0m\u001b[0;34m,\u001b[0m\u001b[0;34m\u001b[0m\u001b[0;34m\u001b[0m\u001b[0m\n",
            "\u001b[0;32m/usr/local/lib/python3.10/dist-packages/ipykernel/kernelbase.py\u001b[0m in \u001b[0;36m_input_request\u001b[0;34m(self, prompt, ident, parent, password)\u001b[0m\n\u001b[1;32m    893\u001b[0m             \u001b[0;32mexcept\u001b[0m \u001b[0mKeyboardInterrupt\u001b[0m\u001b[0;34m:\u001b[0m\u001b[0;34m\u001b[0m\u001b[0;34m\u001b[0m\u001b[0m\n\u001b[1;32m    894\u001b[0m                 \u001b[0;31m# re-raise KeyboardInterrupt, to truncate traceback\u001b[0m\u001b[0;34m\u001b[0m\u001b[0;34m\u001b[0m\u001b[0m\n\u001b[0;32m--> 895\u001b[0;31m                 \u001b[0;32mraise\u001b[0m \u001b[0mKeyboardInterrupt\u001b[0m\u001b[0;34m(\u001b[0m\u001b[0;34m\"Interrupted by user\"\u001b[0m\u001b[0;34m)\u001b[0m \u001b[0;32mfrom\u001b[0m \u001b[0;32mNone\u001b[0m\u001b[0;34m\u001b[0m\u001b[0;34m\u001b[0m\u001b[0m\n\u001b[0m\u001b[1;32m    896\u001b[0m             \u001b[0;32mexcept\u001b[0m \u001b[0mException\u001b[0m \u001b[0;32mas\u001b[0m \u001b[0me\u001b[0m\u001b[0;34m:\u001b[0m\u001b[0;34m\u001b[0m\u001b[0;34m\u001b[0m\u001b[0m\n\u001b[1;32m    897\u001b[0m                 \u001b[0mself\u001b[0m\u001b[0;34m.\u001b[0m\u001b[0mlog\u001b[0m\u001b[0;34m.\u001b[0m\u001b[0mwarning\u001b[0m\u001b[0;34m(\u001b[0m\u001b[0;34m\"Invalid Message:\"\u001b[0m\u001b[0;34m,\u001b[0m \u001b[0mexc_info\u001b[0m\u001b[0;34m=\u001b[0m\u001b[0;32mTrue\u001b[0m\u001b[0;34m)\u001b[0m\u001b[0;34m\u001b[0m\u001b[0;34m\u001b[0m\u001b[0m\n",
            "\u001b[0;31mKeyboardInterrupt\u001b[0m: Interrupted by user"
          ]
        }
      ],
      "source": [
        "import random\n",
        "import time\n",
        "from IPython.display import clear_output\n",
        "import string\n",
        "\n",
        "def generate_grid(size):\n",
        "  grid = [[None for _ in range(size)] for _ in range(size)]\n",
        "  values = list(string.ascii_uppercase) + list(string.ascii_lowercase) + list(map(str, range(10)))\n",
        "  random.shuffle(values)\n",
        "  for row in range(size):\n",
        "    for col in range(size):\n",
        "      grid[row][col] = values.pop()\n",
        "  return grid\n",
        "\n",
        "def display_grid(grid):\n",
        "  clear_output()\n",
        "  for row in grid:\n",
        "    print(\" \".join(str(cell) for cell in row))\n",
        "\n",
        "def hide_random_value(grid):\n",
        "  if grid is None:\n",
        "    return None\n",
        "\n",
        "  row = random.randint(0, len(grid) - 1)\n",
        "  col = random.randint(0, len(grid[0]) - 1)\n",
        "  hidden_value = grid[row][col]\n",
        "  grid[row][col] = \"*\"\n",
        "  return hidden_value\n",
        "\n",
        "def play_game():\n",
        "  while True:\n",
        "    try:\n",
        "      size = int(input(\"Ingrese el tamaño de la cuadrícula (mayor que 1): \"))\n",
        "      if size <= 1:\n",
        "        print(\"El tamaño debe ser mayor que 1.\")\n",
        "        continue\n",
        "      elif size >= 100:\n",
        "        print(\"El tamaño máximo permitido es 99.\")\n",
        "        continue\n",
        "\n",
        "    except ValueError:\n",
        "      print(\"Entrada inválida. Debe ingresar un número entero.\")\n",
        "\n",
        "    grid = generate_grid(size)\n",
        "    if grid is None:\n",
        "        print(\"Error al generar la cuadrícula. Intente con un tamaño más pequeño.\")\n",
        "        continue\n",
        "\n",
        "    display_grid(grid)\n",
        "\n",
        "    time.sleep(size * 3)\n",
        "\n",
        "    hidden_value = hide_random_value(grid)\n",
        "    display_grid(grid)\n",
        "\n",
        "    guess = input(\"Ingrese el valor que cree que se oculta: \")\n",
        "    if guess == str(hidden_value):\n",
        "      print(\"¡Correcto! Has encontrado el valor oculto.\")\n",
        "    else:\n",
        "      print(\"Incorrecto. El valor era\", hidden_value)\n",
        "\n",
        "    play_again = input(\"¿Desea jugar de nuevo? (s/n): \")\n",
        "    if play_again.lower() != 's':\n",
        "      break\n",
        "\n",
        "if __name__ == \"__main__\":\n",
        "  play_game()\n"
      ]
    }
  ]
}